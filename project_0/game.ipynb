{
  "cells": [
    {
      "cell_type": "markdown",
      "metadata": {
        "id": "dWcE-y-N-2fE"
      },
      "source": [
        "# Guess the number\n",
        "We need to write a program that guesses a number in the minimum number of attempts.\n",
        "\n",
        "## Competition conditions\n",
        "- The computer thinks of a whole number from 1 to 100, and we have to guess it. By \"guess\", we mean \"write a program that guesses the number\".    \n",
        "- The algorithm takes into account information about whether the random number is greater or less than what we need.\n",
        "- It is necessary to ensure that the program guesses the number in less than 20 attempts."
      ]
    },
    {
      "cell_type": "markdown",
      "metadata": {
        "id": "4sShzLei_ClF"
      },
      "source": [
        "We import the libraries that we will need:"
      ]
    },
    {
      "cell_type": "code",
      "execution_count": 1,
      "metadata": {
        "id": "KIy8PgXL-2fH"
      },
      "outputs": [],
      "source": [
        "# to generate random numbers\n",
        "import numpy as np\n",
        "\n",
        "# created functions\n",
        "from guess_functions import user_predict, random_predict, moving_predict, advanced_predict, score_game"
      ]
    },
    {
      "cell_type": "markdown",
      "metadata": {},
      "source": [
        "## Approach 0: Manual Guessing"
      ]
    },
    {
      "cell_type": "code",
      "execution_count": 4,
      "metadata": {},
      "outputs": [
        {
          "name": "stdout",
          "output_type": "stream",
          "text": [
            "Entered number: 50\n",
            "The number must be higher!\n",
            "\n",
            "Entered number: 60\n",
            "The number must be higher!\n",
            "\n",
            "Entered number: 70\n",
            "The number must be less!\n",
            "\n",
            "Entered number: 65\n",
            "The number must be less!\n",
            "\n",
            "Entered number: 63\n",
            "The number must be less!\n",
            "\n",
            "Entered number: 61\n",
            "The number must be higher!\n",
            "\n",
            "Entered number: 62\n",
            "You guessed the number in 7 attempts! This number = 62\n"
          ]
        }
      ],
      "source": [
        "user_predict()"
      ]
    },
    {
      "cell_type": "markdown",
      "metadata": {
        "id": "shciKwTp-2fJ"
      },
      "source": [
        "## Approach 1: Random guessing"
      ]
    },
    {
      "cell_type": "markdown",
      "metadata": {
        "id": "XCYf-uZa-_Oa"
      },
      "source": [
        "The simplest way to solve this is to teach the program to randomly choose a number until it is guessed. This method does not give a good result, but it will be a good starting point for us."
      ]
    },
    {
      "cell_type": "code",
      "execution_count": 6,
      "metadata": {
        "id": "pJaQGNND-2fK"
      },
      "outputs": [
        {
          "name": "stdout",
          "output_type": "stream",
          "text": [
            "Run benchmarking for random_predict: \n",
            "Your algorithm guesses the number on average in: 101 attempts\n"
          ]
        }
      ],
      "source": [
        "print('Run benchmarking for random_predict: ')\n",
        "score_game(random_predict)"
      ]
    },
    {
      "cell_type": "markdown",
      "metadata": {
        "id": "Da8TSXrE_2QC"
      },
      "source": [
        "## Approach 2: Guessing with correction"
      ]
    },
    {
      "cell_type": "markdown",
      "metadata": {
        "id": "UeFYnSZi_7uZ"
      },
      "source": [
        "First, we set any random number, and then decrease or increase it depending on whether it is more or less than required."
      ]
    },
    {
      "cell_type": "code",
      "execution_count": 7,
      "metadata": {
        "id": "bFzp7ROY_QYY"
      },
      "outputs": [
        {
          "name": "stdout",
          "output_type": "stream",
          "text": [
            "Run benchmarking for moving_predict: \n",
            "Your algorithm guesses the number on average in: 32 attempts\n"
          ]
        }
      ],
      "source": [
        "print('Run benchmarking for moving_predict: ')\n",
        "score_game(moving_predict)"
      ]
    },
    {
      "cell_type": "markdown",
      "metadata": {
        "id": "_H0wabPwBfRo"
      },
      "source": [
        "As we can see, the two proposed programs do not show the best result.  \n",
        "Now we will try to solve this problem and find a more optimal algorithm."
      ]
    },
    {
      "cell_type": "markdown",
      "metadata": {
        "id": "ZIdPcSWzB0G1"
      },
      "source": [
        "## Approach 3: Our Decision"
      ]
    },
    {
      "cell_type": "markdown",
      "metadata": {
        "id": "KPT5reW1B32U"
      },
      "source": [
        "We set the average number between the minimum and maximum possible values. Possible values decreases or increases - depending on whether entered value is greater or less than the desired one."
      ]
    },
    {
      "cell_type": "code",
      "execution_count": 2,
      "metadata": {
        "id": "IvaUUPIe-2fN"
      },
      "outputs": [
        {
          "name": "stdout",
          "output_type": "stream",
          "text": [
            "Run benchmarking for advanced_predict: \n",
            "Your algorithm guesses the number on average in: 5 attempts\n"
          ]
        }
      ],
      "source": [
        "print('Run benchmarking for advanced_predict: ')\n",
        "score_game(advanced_predict)"
      ]
    },
    {
      "cell_type": "markdown",
      "metadata": {
        "id": "7gc6XmUPC04X"
      },
      "source": [
        "Let us remind you that to successfully solve the task, the program must guess the number in less than 20 attempts!"
      ]
    }
  ],
  "metadata": {
    "colab": {
      "provenance": []
    },
    "kernelspec": {
      "display_name": ".venv",
      "language": "python",
      "name": "python3"
    },
    "language_info": {
      "codemirror_mode": {
        "name": "ipython",
        "version": 3
      },
      "file_extension": ".py",
      "mimetype": "text/x-python",
      "name": "python",
      "nbconvert_exporter": "python",
      "pygments_lexer": "ipython3",
      "version": "3.13.1"
    },
    "orig_nbformat": 4
  },
  "nbformat": 4,
  "nbformat_minor": 0
}
